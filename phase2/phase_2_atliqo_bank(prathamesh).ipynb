{
 "cells": [
  {
   "cell_type": "markdown",
   "id": "e0a2fbd6-64c8-49f3-9188-ca6b3a4b87ea",
   "metadata": {},
   "source": [
    "<h2 align=\"center\" style=\"color:purple\">Phase 2: AtliQ0 Bank Credit Card Project</h2>"
   ]
  },
  {
   "cell_type": "markdown",
   "id": "23fa8bb2-19df-4dec-9fbf-e6001f66110b",
   "metadata": {},
   "source": [
    "### Business Analysis and launch of AB testing: Targeting Untapped Market\n",
    "\n",
    "### Insights specific to customers with age group of 18 - 25\n",
    "1. People with age group of 18 -25 accounts to ~25% of customer base in the data\n",
    "2. Avg annual income of this age group is less than 50k\n",
    "3. They don't have much credit history which is getting reflected in their credit score and max credit limit \n",
    "4. Usage of credit cards as payment type is relatively low compared to other groups\n",
    "5. Avg transaction amount made with credit cards is also low compared to other groups\n",
    "5. Top 3 most used shopping products categories  : Electronics, Fashion & Apparel, Beauty & Personal care"
   ]
  },
  {
   "cell_type": "markdown",
   "id": "aa96c5b1-fc97-4de6-a032-7071c074df20",
   "metadata": {},
   "source": [
    "![Analysis_image](analysis.png)"
   ]
  },
  {
   "cell_type": "markdown",
   "id": "0ec8f53b-d5ba-4dbd-a633-7cc6a943fe80",
   "metadata": {},
   "source": [
    "## (1) Pre-Campaign\n",
    "\n",
    "We want to do a trial run for our new credit card. For this we need to figure out (1) How many customers do we need for our A/B testing. We will form a control and test group. For both of these groups we can figure out number of customers we need based on the statistical power and effect size that we agree upon after discussing with business. We will use \n"
   ]
  },
  {
   "cell_type": "code",
   "execution_count": 3,
   "id": "803f9680-de5a-4470-ba54-c35f6773ac43",
   "metadata": {},
   "outputs": [],
   "source": [
    "import pandas as pd\n",
    "import numpy as np\n",
    "import scipy.stats as st\n",
    "import statsmodels.stats.api as sms\n",
    "import statsmodels.api as sm\n",
    "from matplotlib import pyplot as plt\n",
    "import seaborn as sns"
   ]
  },
  {
   "cell_type": "code",
   "execution_count": 4,
   "id": "0a73b4a6-ec32-4b29-83ea-9b1ff19c4868",
   "metadata": {},
   "outputs": [],
   "source": [
    "effect_size = 0.2\n",
    "statistical_power = 0.8\n",
    "alpha = 0.05"
   ]
  },
  {
   "cell_type": "code",
   "execution_count": 5,
   "id": "3143fac2-5dc8-429b-aed2-7804e2d75d0a",
   "metadata": {},
   "outputs": [
    {
     "data": {
      "text/plain": [
       "393.40569300025135"
      ]
     },
     "execution_count": 5,
     "metadata": {},
     "output_type": "execute_result"
    }
   ],
   "source": [
    "no_of_customers = sms.tt_ind_solve_power(\n",
    "    effect_size = effect_size,\n",
    "    alpha = alpha,\n",
    "    power = statistical_power,\n",
    "    ratio=1, \n",
    "    alternative='two-sided'\n",
    ") \n",
    "no_of_customers"
   ]
  },
  {
   "cell_type": "markdown",
   "id": "d5acb4ff-e3db-4017-9388-74b806848274",
   "metadata": {},
   "source": [
    "For effect size 2 we need 393 customers. We have to keep in mind budgeting restrictions while running this campaign hence let us run this for different effect sizes and discuss with business to find out which sample size would be optimal"
   ]
  },
  {
   "cell_type": "code",
   "execution_count": 6,
   "id": "86278827-43f1-4ffc-b5a1-1b6ca1dc3853",
   "metadata": {},
   "outputs": [
    {
     "name": "stdout",
     "output_type": "stream",
     "text": [
      "Effect Size: 0.1, Required Sample Size: 1570 customers\n",
      "Effect Size: 0.2, Required Sample Size: 393 customers\n",
      "Effect Size: 0.3, Required Sample Size: 175 customers\n",
      "Effect Size: 0.4, Required Sample Size: 99 customers\n",
      "Effect Size: 0.5, Required Sample Size: 63 customers\n",
      "Effect Size: 1, Required Sample Size: 16 customers\n"
     ]
    }
   ],
   "source": [
    "# Calculate the required sample size for different effect sizes\n",
    "effect_sizes = [0.1, 0.2, 0.3, 0.4, 0.5,1]  #  standard deviations greater than control group \n",
    "\n",
    "for effect_size in effect_sizes:\n",
    "    sample_size = sms.tt_ind_solve_power(effect_size=effect_size, alpha=alpha, power=statistical_power, ratio=1, alternative='two-sided')\n",
    "    print(f\"Effect Size: {effect_size}, Required Sample Size: {int(sample_size)} customers\")"
   ]
  },
  {
   "cell_type": "markdown",
   "id": "92bc2b24-7a36-464f-b071-d609c3547871",
   "metadata": {},
   "source": [
    "Based on business requirements, the test should be capable of detecting a minimum 0.4 standard deviation difference between the control and test groups. For the effect size 0.4, we need 100 customers and when we discussed with business, 100 customers is ok in terms of their budgeting constraints for this trail run"
   ]
  },
  {
   "cell_type": "markdown",
   "id": "b6046861-d803-4407-b73e-5682aec65eba",
   "metadata": {},
   "source": [
    "#### Forming control and test groups\n",
    "\n",
    "1.We have identified approximately 246 customers within the age group of 18 to 25. From this pool, we will select 100 customers for the initial campaign launch.\n",
    "\n",
    "2.The campaign is launched for 100 customers, as determined by the effective size calculation and by considering budgeting costs, and will run campaign for a duration of 2 months\n",
    "\n",
    "3.Got a conversion rate of ~40% ( implies 40 out of 100 customers in test group started using credit card)\n",
    "\n",
    "4.To maintain a similar sample size, a control group consisting of 40 customers will be created. Importantly, this control group will be completely exclusive of initial 100 customers used as test group.\n",
    "\n",
    "5.So now we have 40 customers in each of control and test groups"
   ]
  },
  {
   "cell_type": "markdown",
   "id": "4578c93f-2452-4861-a9fc-206674727598",
   "metadata": {},
   "source": [
    "##### At the end of the 2-month campaign period (from 09-10-23 to 11-10-23), we obtained daily data showing the average transaction amounts made by the entire group of 40 customers in both the control and test groups using existing and newly launched credit cards respectively\n",
    "\n",
    "##### The key performance indicator (KPI) for this AB test aims to enhance average transaction amounts facilitated by the new card"
   ]
  },
  {
   "cell_type": "markdown",
   "id": "ed761c71-57a1-48ad-971e-287e30729f07",
   "metadata": {},
   "source": [
    "## (2) Post-Campaign"
   ]
  },
  {
   "cell_type": "markdown",
   "id": "690ad50e-c756-4b11-9b83-cd23261c7bea",
   "metadata": {},
   "source": [
    "## Two Sample Z Test for Our Hypothesis Testing"
   ]
  },
  {
   "cell_type": "code",
   "execution_count": 7,
   "id": "5aa13534-b3a0-4699-b0e1-6a62df32aeee",
   "metadata": {},
   "outputs": [
    {
     "data": {
      "text/html": [
       "<div>\n",
       "<style scoped>\n",
       "    .dataframe tbody tr th:only-of-type {\n",
       "        vertical-align: middle;\n",
       "    }\n",
       "\n",
       "    .dataframe tbody tr th {\n",
       "        vertical-align: top;\n",
       "    }\n",
       "\n",
       "    .dataframe thead th {\n",
       "        text-align: right;\n",
       "    }\n",
       "</style>\n",
       "<table border=\"1\" class=\"dataframe\">\n",
       "  <thead>\n",
       "    <tr style=\"text-align: right;\">\n",
       "      <th></th>\n",
       "      <th>campaign_date</th>\n",
       "      <th>control_group_avg_tran</th>\n",
       "      <th>test_group_avg_tran</th>\n",
       "    </tr>\n",
       "  </thead>\n",
       "  <tbody>\n",
       "    <tr>\n",
       "      <th>0</th>\n",
       "      <td>2023-09-10</td>\n",
       "      <td>259.83</td>\n",
       "      <td>277.32</td>\n",
       "    </tr>\n",
       "    <tr>\n",
       "      <th>1</th>\n",
       "      <td>2023-09-11</td>\n",
       "      <td>191.27</td>\n",
       "      <td>248.68</td>\n",
       "    </tr>\n",
       "    <tr>\n",
       "      <th>2</th>\n",
       "      <td>2023-09-12</td>\n",
       "      <td>212.41</td>\n",
       "      <td>286.61</td>\n",
       "    </tr>\n",
       "    <tr>\n",
       "      <th>3</th>\n",
       "      <td>2023-09-13</td>\n",
       "      <td>214.92</td>\n",
       "      <td>214.85</td>\n",
       "    </tr>\n",
       "    <tr>\n",
       "      <th>4</th>\n",
       "      <td>2023-09-14</td>\n",
       "      <td>158.55</td>\n",
       "      <td>344.08</td>\n",
       "    </tr>\n",
       "  </tbody>\n",
       "</table>\n",
       "</div>"
      ],
      "text/plain": [
       "  campaign_date  control_group_avg_tran  test_group_avg_tran\n",
       "0    2023-09-10                  259.83               277.32\n",
       "1    2023-09-11                  191.27               248.68\n",
       "2    2023-09-12                  212.41               286.61\n",
       "3    2023-09-13                  214.92               214.85\n",
       "4    2023-09-14                  158.55               344.08"
      ]
     },
     "execution_count": 7,
     "metadata": {},
     "output_type": "execute_result"
    }
   ],
   "source": [
    "df = pd.read_csv(\"data/avg_transactions_after_campaign.csv\")\n",
    "df.head()"
   ]
  },
  {
   "cell_type": "code",
   "execution_count": 8,
   "id": "48285138-b27d-4da4-b4ea-11bed84908d7",
   "metadata": {},
   "outputs": [
    {
     "data": {
      "image/png": "[encoded data removed]",
      "text/plain": [
       "<Figure size 1100x300 with 2 Axes>"
      ]
     },
     "metadata": {},
     "output_type": "display_data"
    }
   ],
   "source": [
    "fig, (ax1, ax2) = plt.subplots(1, 2, figsize=(11, 3))\n",
    "\n",
    "# Plot the distribution of Campaign A Sales\n",
    "sns.histplot(df['control_group_avg_tran'], kde=True, color='skyblue', label='Control group avg transaction amounts', ax=ax1)\n",
    "ax1.set_xlabel('Sales')\n",
    "ax1.set_ylabel('Frequency')\n",
    "ax1.set_title('Distribution of Control group avg transaction amounts')\n",
    "ax1.legend()\n",
    "\n",
    "# Plot the distribution of Campaign B Sales\n",
    "sns.histplot(df['test_group_avg_tran'], kde=True, color='lightgreen', label='Test group avg transaction amounts', ax=ax2)\n",
    "ax2.set_xlabel('Sales')\n",
    "ax2.set_ylabel('Frequency')\n",
    "ax2.set_title('Distribution of test group avg transaction amounts')\n",
    "ax2.legend()\n",
    "\n",
    "# Show the plots\n",
    "plt.show()"
   ]
  },
  {
   "cell_type": "code",
   "execution_count": 9,
   "id": "9d369e9e-baa9-4164-9854-a9327c0e2e8c",
   "metadata": {},
   "outputs": [
    {
     "data": {
      "text/html": [
       "<div>\n",
       "<style scoped>\n",
       "    .dataframe tbody tr th:only-of-type {\n",
       "        vertical-align: middle;\n",
       "    }\n",
       "\n",
       "    .dataframe tbody tr th {\n",
       "        vertical-align: top;\n",
       "    }\n",
       "\n",
       "    .dataframe thead th {\n",
       "        text-align: right;\n",
       "    }\n",
       "</style>\n",
       "<table border=\"1\" class=\"dataframe\">\n",
       "  <thead>\n",
       "    <tr style=\"text-align: right;\">\n",
       "      <th></th>\n",
       "      <th>campaign_date</th>\n",
       "      <th>control_group_avg_tran</th>\n",
       "      <th>test_group_avg_tran</th>\n",
       "    </tr>\n",
       "  </thead>\n",
       "  <tbody>\n",
       "    <tr>\n",
       "      <th>3</th>\n",
       "      <td>2023-09-13</td>\n",
       "      <td>214.92</td>\n",
       "      <td>214.85</td>\n",
       "    </tr>\n",
       "    <tr>\n",
       "      <th>8</th>\n",
       "      <td>2023-09-18</td>\n",
       "      <td>265.13</td>\n",
       "      <td>212.60</td>\n",
       "    </tr>\n",
       "    <tr>\n",
       "      <th>9</th>\n",
       "      <td>2023-09-19</td>\n",
       "      <td>232.88</td>\n",
       "      <td>207.63</td>\n",
       "    </tr>\n",
       "    <tr>\n",
       "      <th>16</th>\n",
       "      <td>2023-09-26</td>\n",
       "      <td>222.95</td>\n",
       "      <td>213.30</td>\n",
       "    </tr>\n",
       "    <tr>\n",
       "      <th>22</th>\n",
       "      <td>2023-10-02</td>\n",
       "      <td>238.39</td>\n",
       "      <td>203.10</td>\n",
       "    </tr>\n",
       "    <tr>\n",
       "      <th>23</th>\n",
       "      <td>2023-10-03</td>\n",
       "      <td>253.95</td>\n",
       "      <td>234.26</td>\n",
       "    </tr>\n",
       "    <tr>\n",
       "      <th>25</th>\n",
       "      <td>2023-10-05</td>\n",
       "      <td>239.47</td>\n",
       "      <td>216.37</td>\n",
       "    </tr>\n",
       "    <tr>\n",
       "      <th>26</th>\n",
       "      <td>2023-10-06</td>\n",
       "      <td>200.70</td>\n",
       "      <td>166.70</td>\n",
       "    </tr>\n",
       "    <tr>\n",
       "      <th>27</th>\n",
       "      <td>2023-10-07</td>\n",
       "      <td>200.91</td>\n",
       "      <td>170.01</td>\n",
       "    </tr>\n",
       "    <tr>\n",
       "      <th>28</th>\n",
       "      <td>2023-10-08</td>\n",
       "      <td>188.30</td>\n",
       "      <td>150.27</td>\n",
       "    </tr>\n",
       "    <tr>\n",
       "      <th>29</th>\n",
       "      <td>2023-10-09</td>\n",
       "      <td>247.11</td>\n",
       "      <td>164.00</td>\n",
       "    </tr>\n",
       "    <tr>\n",
       "      <th>35</th>\n",
       "      <td>2023-10-15</td>\n",
       "      <td>240.27</td>\n",
       "      <td>238.30</td>\n",
       "    </tr>\n",
       "    <tr>\n",
       "      <th>39</th>\n",
       "      <td>2023-10-19</td>\n",
       "      <td>223.90</td>\n",
       "      <td>196.84</td>\n",
       "    </tr>\n",
       "    <tr>\n",
       "      <th>44</th>\n",
       "      <td>2023-10-24</td>\n",
       "      <td>230.83</td>\n",
       "      <td>213.45</td>\n",
       "    </tr>\n",
       "    <tr>\n",
       "      <th>48</th>\n",
       "      <td>2023-10-28</td>\n",
       "      <td>229.18</td>\n",
       "      <td>222.29</td>\n",
       "    </tr>\n",
       "    <tr>\n",
       "      <th>49</th>\n",
       "      <td>2023-10-29</td>\n",
       "      <td>237.26</td>\n",
       "      <td>214.46</td>\n",
       "    </tr>\n",
       "    <tr>\n",
       "      <th>52</th>\n",
       "      <td>2023-11-01</td>\n",
       "      <td>265.45</td>\n",
       "      <td>169.98</td>\n",
       "    </tr>\n",
       "    <tr>\n",
       "      <th>57</th>\n",
       "      <td>2023-11-06</td>\n",
       "      <td>255.70</td>\n",
       "      <td>140.61</td>\n",
       "    </tr>\n",
       "  </tbody>\n",
       "</table>\n",
       "</div>"
      ],
      "text/plain": [
       "   campaign_date  control_group_avg_tran  test_group_avg_tran\n",
       "3     2023-09-13                  214.92               214.85\n",
       "8     2023-09-18                  265.13               212.60\n",
       "9     2023-09-19                  232.88               207.63\n",
       "16    2023-09-26                  222.95               213.30\n",
       "22    2023-10-02                  238.39               203.10\n",
       "23    2023-10-03                  253.95               234.26\n",
       "25    2023-10-05                  239.47               216.37\n",
       "26    2023-10-06                  200.70               166.70\n",
       "27    2023-10-07                  200.91               170.01\n",
       "28    2023-10-08                  188.30               150.27\n",
       "29    2023-10-09                  247.11               164.00\n",
       "35    2023-10-15                  240.27               238.30\n",
       "39    2023-10-19                  223.90               196.84\n",
       "44    2023-10-24                  230.83               213.45\n",
       "48    2023-10-28                  229.18               222.29\n",
       "49    2023-10-29                  237.26               214.46\n",
       "52    2023-11-01                  265.45               169.98\n",
       "57    2023-11-06                  255.70               140.61"
      ]
     },
     "execution_count": 9,
     "metadata": {},
     "output_type": "execute_result"
    }
   ],
   "source": [
    "df[df.control_group_avg_tran > df.test_group_avg_tran]"
   ]
  },
  {
   "cell_type": "code",
   "execution_count": 10,
   "id": "1d09f9a5-ca00-4c28-b79f-c9d23cad2df8",
   "metadata": {},
   "outputs": [
    {
     "data": {
      "text/plain": [
       "(18, 3)"
      ]
     },
     "execution_count": 10,
     "metadata": {},
     "output_type": "execute_result"
    }
   ],
   "source": [
    "df[df.control_group_avg_tran > df.test_group_avg_tran].shape"
   ]
  },
  {
   "cell_type": "code",
   "execution_count": 11,
   "id": "5a7dcc36-0264-43f8-8a98-f7bc19574f3f",
   "metadata": {},
   "outputs": [
    {
     "data": {
      "text/plain": [
       "0.2903225806451613"
      ]
     },
     "execution_count": 11,
     "metadata": {},
     "output_type": "execute_result"
    }
   ],
   "source": [
    "df[df.control_group_avg_tran > df.test_group_avg_tran].shape[0]/df.shape[0]"
   ]
  },
  {
   "cell_type": "markdown",
   "id": "8e9c537c-dd57-4d94-a3ae-32241c1ee175",
   "metadata": {},
   "source": [
    "#### Perform Hypothesis Testing Using Two Sample Z-test"
   ]
  },
  {
   "cell_type": "code",
   "execution_count": 12,
   "id": "6afe1510-1219-4d8e-8652-eef3123e4262",
   "metadata": {},
   "outputs": [
    {
     "data": {
      "text/plain": [
       "(np.float64(221.1751612903226), 36.65808210918637)"
      ]
     },
     "execution_count": 12,
     "metadata": {},
     "output_type": "execute_result"
    }
   ],
   "source": [
    "control_mean = df[\"control_group_avg_tran\"].mean()\n",
    "control_std = df[\"test_group_avg_tran\"].std()\n",
    "control_mean,control_std"
   ]
  },
  {
   "cell_type": "code",
   "execution_count": 14,
   "id": "6c8eeaa1-09de-4aba-8d81-f4babcfbe986",
   "metadata": {},
   "outputs": [
    {
     "data": {
      "text/plain": [
       "(np.float64(235.9835483870968), 36.65808210918637)"
      ]
     },
     "execution_count": 14,
     "metadata": {},
     "output_type": "execute_result"
    }
   ],
   "source": [
    "test_mean = df[\"test_group_avg_tran\"].mean()\n",
    "test_std = df[\"test_group_avg_tran\"].std()\n",
    "test_mean,test_std"
   ]
  },
  {
   "cell_type": "code",
   "execution_count": 16,
   "id": "64640178-3e6d-420a-9ada-38307e1d8dbe",
   "metadata": {},
   "outputs": [
    {
     "data": {
      "text/plain": [
       "62"
      ]
     },
     "execution_count": 16,
     "metadata": {},
     "output_type": "execute_result"
    }
   ],
   "source": [
    "sample_size = df.shape[0]\n",
    "sample_size"
   ]
  },
  {
   "cell_type": "markdown",
   "id": "f2708aa7-4ca7-4eb2-a329-323d424bc68e",
   "metadata": {},
   "source": [
    "### Test Using Rejection Region (i.e. Critical Z Value)"
   ]
  },
  {
   "cell_type": "code",
   "execution_count": 18,
   "id": "f6ab299c-54cc-4b46-bff1-ed0ab6d2d4c9",
   "metadata": {},
   "outputs": [
    {
     "name": "stdout",
     "output_type": "stream",
     "text": [
      "2.2491523070638157\n"
     ]
    }
   ],
   "source": [
    "a = (control_std**2/sample_size)\n",
    "b = (test_std**2/sample_size)\n",
    "z_score = (test_mean - control_mean)/np.sqrt(a+b)\n",
    "print(z_score)"
   ]
  },
  {
   "cell_type": "code",
   "execution_count": 21,
   "id": "20861fa4-8825-4405-8e32-a6b8408d0f4b",
   "metadata": {},
   "outputs": [
    {
     "name": "stdout",
     "output_type": "stream",
     "text": [
      "1.6448536269514722\n"
     ]
    }
   ],
   "source": [
    "z_critical = st.norm.ppf(1-alpha)\n",
    "print(z_critical)"
   ]
  },
  {
   "cell_type": "code",
   "execution_count": 23,
   "id": "7dfa46d8-cd2c-43fa-8481-5940b28bb54b",
   "metadata": {},
   "outputs": [
    {
     "data": {
      "text/plain": [
       "np.True_"
      ]
     },
     "execution_count": 23,
     "metadata": {},
     "output_type": "execute_result"
    }
   ],
   "source": [
    "z_score > z_critical"
   ]
  },
  {
   "cell_type": "markdown",
   "id": "180138b0-db31-4683-b85a-f824821a6a37",
   "metadata": {},
   "source": [
    "Since Z score is higher than critical Z value, we can reject the null hypothesis."
   ]
  },
  {
   "cell_type": "markdown",
   "id": "b7675928-994d-40b4-9247-3fdbcbb91035",
   "metadata": {},
   "source": [
    "### Test Using p-Value"
   ]
  },
  {
   "cell_type": "code",
   "execution_count": 25,
   "id": "d496cdbf-86d2-488b-b802-3e183ae46077",
   "metadata": {},
   "outputs": [
    {
     "name": "stdout",
     "output_type": "stream",
     "text": [
      "0.012251403805328742\n"
     ]
    }
   ],
   "source": [
    "p_value = 1 - st.norm.cdf(z_score)\n",
    "print(p_value)"
   ]
  },
  {
   "cell_type": "code",
   "execution_count": 26,
   "id": "65a20c96-a2cd-4d14-8eed-673f38ccda06",
   "metadata": {},
   "outputs": [
    {
     "data": {
      "text/plain": [
       "np.True_"
      ]
     },
     "execution_count": 26,
     "metadata": {},
     "output_type": "execute_result"
    }
   ],
   "source": [
    "p_value < alpha"
   ]
  },
  {
   "cell_type": "markdown",
   "id": "a14df61f-fa77-4a78-9f92-d64d54ae80a7",
   "metadata": {},
   "source": [
    "Since p value is less than significance level (i.e. alpha), we can reject the null hypothesis."
   ]
  },
  {
   "cell_type": "code",
   "execution_count": 28,
   "id": "e5ba4eb1-d804-433f-a845-262d4c7292b7",
   "metadata": {},
   "outputs": [
    {
     "data": {
      "text/plain": [
       "(np.float64(2.7482973745691135), np.float64(0.002995282462202502))"
      ]
     },
     "execution_count": 28,
     "metadata": {},
     "output_type": "execute_result"
    }
   ],
   "source": [
    "z_critical , p_value = sm.stats.ztest(df[\"test_group_avg_tran\"],df[\"control_group_avg_tran\"],alternative='larger')\n",
    "z_critical,p_value"
   ]
  },
  {
   "cell_type": "code",
   "execution_count": null,
   "id": "7d014776-bdce-4246-9a64-791006921607",
   "metadata": {},
   "outputs": [],
   "source": []
  }
 ],
 "metadata": {
  "kernelspec": {
   "display_name": "Python 3 (ipykernel)",
   "language": "python",
   "name": "python3"
  },
  "language_info": {
   "codemirror_mode": {
    "name": "ipython",
    "version": 3
   },
   "file_extension": ".py",
   "mimetype": "text/x-python",
   "name": "python",
   "nbconvert_exporter": "python",
   "pygments_lexer": "ipython3",
   "version": "3.13.5"
  }
 },
 "nbformat": 4,
 "nbformat_minor": 5
}
